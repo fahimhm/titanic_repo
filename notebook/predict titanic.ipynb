{
 "cells": [
  {
   "cell_type": "markdown",
   "metadata": {},
   "source": [
    "## Supervised Learning Practice\n",
    "\n",
    "Hi...\n",
    "\n",
    "I'd like to demonstrate how I predict survival on titanic dataset, and trying to improve the accuracy.\n",
    "Feel free to contribute."
   ]
  },
  {
   "cell_type": "code",
   "execution_count": 1,
   "metadata": {},
   "outputs": [],
   "source": [
    "import pandas as pd"
   ]
  },
  {
   "cell_type": "code",
   "execution_count": 2,
   "metadata": {},
   "outputs": [
    {
     "name": "stdout",
     "output_type": "stream",
     "text": [
      "<class 'pandas.core.frame.DataFrame'>\n",
      "Int64Index: 891 entries, 1 to 891\n",
      "Data columns (total 11 columns):\n",
      "Survived    891 non-null int64\n",
      "Pclass      891 non-null int64\n",
      "Name        891 non-null object\n",
      "Sex         891 non-null object\n",
      "Age         714 non-null float64\n",
      "SibSp       891 non-null int64\n",
      "Parch       891 non-null int64\n",
      "Ticket      891 non-null object\n",
      "Fare        891 non-null float64\n",
      "Cabin       204 non-null object\n",
      "Embarked    889 non-null object\n",
      "dtypes: float64(2), int64(4), object(5)\n",
      "memory usage: 83.5+ KB\n"
     ]
    }
   ],
   "source": [
    "df = pd.read_csv('../data/train.csv', index_col=0)\n",
    "df.info()"
   ]
  },
  {
   "cell_type": "code",
   "execution_count": 3,
   "metadata": {},
   "outputs": [
    {
     "data": {
      "text/html": [
       "<div>\n",
       "<style scoped>\n",
       "    .dataframe tbody tr th:only-of-type {\n",
       "        vertical-align: middle;\n",
       "    }\n",
       "\n",
       "    .dataframe tbody tr th {\n",
       "        vertical-align: top;\n",
       "    }\n",
       "\n",
       "    .dataframe thead th {\n",
       "        text-align: right;\n",
       "    }\n",
       "</style>\n",
       "<table border=\"1\" class=\"dataframe\">\n",
       "  <thead>\n",
       "    <tr style=\"text-align: right;\">\n",
       "      <th></th>\n",
       "      <th>Survived</th>\n",
       "      <th>Pclass</th>\n",
       "      <th>Name</th>\n",
       "      <th>Sex</th>\n",
       "      <th>Age</th>\n",
       "      <th>SibSp</th>\n",
       "      <th>Parch</th>\n",
       "      <th>Ticket</th>\n",
       "      <th>Fare</th>\n",
       "      <th>Cabin</th>\n",
       "      <th>Embarked</th>\n",
       "    </tr>\n",
       "    <tr>\n",
       "      <th>PassengerId</th>\n",
       "      <th></th>\n",
       "      <th></th>\n",
       "      <th></th>\n",
       "      <th></th>\n",
       "      <th></th>\n",
       "      <th></th>\n",
       "      <th></th>\n",
       "      <th></th>\n",
       "      <th></th>\n",
       "      <th></th>\n",
       "      <th></th>\n",
       "    </tr>\n",
       "  </thead>\n",
       "  <tbody>\n",
       "    <tr>\n",
       "      <td>1</td>\n",
       "      <td>0</td>\n",
       "      <td>3</td>\n",
       "      <td>Braund, Mr. Owen Harris</td>\n",
       "      <td>male</td>\n",
       "      <td>22.0</td>\n",
       "      <td>1</td>\n",
       "      <td>0</td>\n",
       "      <td>A/5 21171</td>\n",
       "      <td>7.2500</td>\n",
       "      <td>NaN</td>\n",
       "      <td>S</td>\n",
       "    </tr>\n",
       "    <tr>\n",
       "      <td>2</td>\n",
       "      <td>1</td>\n",
       "      <td>1</td>\n",
       "      <td>Cumings, Mrs. John Bradley (Florence Briggs Th...</td>\n",
       "      <td>female</td>\n",
       "      <td>38.0</td>\n",
       "      <td>1</td>\n",
       "      <td>0</td>\n",
       "      <td>PC 17599</td>\n",
       "      <td>71.2833</td>\n",
       "      <td>C85</td>\n",
       "      <td>C</td>\n",
       "    </tr>\n",
       "    <tr>\n",
       "      <td>3</td>\n",
       "      <td>1</td>\n",
       "      <td>3</td>\n",
       "      <td>Heikkinen, Miss. Laina</td>\n",
       "      <td>female</td>\n",
       "      <td>26.0</td>\n",
       "      <td>0</td>\n",
       "      <td>0</td>\n",
       "      <td>STON/O2. 3101282</td>\n",
       "      <td>7.9250</td>\n",
       "      <td>NaN</td>\n",
       "      <td>S</td>\n",
       "    </tr>\n",
       "    <tr>\n",
       "      <td>4</td>\n",
       "      <td>1</td>\n",
       "      <td>1</td>\n",
       "      <td>Futrelle, Mrs. Jacques Heath (Lily May Peel)</td>\n",
       "      <td>female</td>\n",
       "      <td>35.0</td>\n",
       "      <td>1</td>\n",
       "      <td>0</td>\n",
       "      <td>113803</td>\n",
       "      <td>53.1000</td>\n",
       "      <td>C123</td>\n",
       "      <td>S</td>\n",
       "    </tr>\n",
       "    <tr>\n",
       "      <td>5</td>\n",
       "      <td>0</td>\n",
       "      <td>3</td>\n",
       "      <td>Allen, Mr. William Henry</td>\n",
       "      <td>male</td>\n",
       "      <td>35.0</td>\n",
       "      <td>0</td>\n",
       "      <td>0</td>\n",
       "      <td>373450</td>\n",
       "      <td>8.0500</td>\n",
       "      <td>NaN</td>\n",
       "      <td>S</td>\n",
       "    </tr>\n",
       "  </tbody>\n",
       "</table>\n",
       "</div>"
      ],
      "text/plain": [
       "             Survived  Pclass  \\\n",
       "PassengerId                     \n",
       "1                   0       3   \n",
       "2                   1       1   \n",
       "3                   1       3   \n",
       "4                   1       1   \n",
       "5                   0       3   \n",
       "\n",
       "                                                          Name     Sex   Age  \\\n",
       "PassengerId                                                                    \n",
       "1                                      Braund, Mr. Owen Harris    male  22.0   \n",
       "2            Cumings, Mrs. John Bradley (Florence Briggs Th...  female  38.0   \n",
       "3                                       Heikkinen, Miss. Laina  female  26.0   \n",
       "4                 Futrelle, Mrs. Jacques Heath (Lily May Peel)  female  35.0   \n",
       "5                                     Allen, Mr. William Henry    male  35.0   \n",
       "\n",
       "             SibSp  Parch            Ticket     Fare Cabin Embarked  \n",
       "PassengerId                                                          \n",
       "1                1      0         A/5 21171   7.2500   NaN        S  \n",
       "2                1      0          PC 17599  71.2833   C85        C  \n",
       "3                0      0  STON/O2. 3101282   7.9250   NaN        S  \n",
       "4                1      0            113803  53.1000  C123        S  \n",
       "5                0      0            373450   8.0500   NaN        S  "
      ]
     },
     "execution_count": 3,
     "metadata": {},
     "output_type": "execute_result"
    }
   ],
   "source": [
    "df.head()"
   ]
  },
  {
   "cell_type": "markdown",
   "metadata": {},
   "source": [
    "### Cleaning the Data and EDA\n",
    "\n",
    "- I'd like to remove Cabin column due to the null value is so huge. I assume it will be hard to apply machine learning or other prediction method to do data imputation.\n",
    "- I'll use mode of Embarked column to to imputation. It's clear enough because Embarked column is categorical data.\n",
    "- Before I do some imputation method at Age column, it'll better to visualize the distribution so I can decide the imputation method correctly.\n",
    "- Also, I'd like to remove Name and Ticket columns, because the data is too unique. And I assume we don't have much information from those columns."
   ]
  },
  {
   "cell_type": "code",
   "execution_count": 4,
   "metadata": {},
   "outputs": [],
   "source": [
    "# remove cabin, name and ticket\n",
    "df.drop(['Name', 'Cabin', 'Ticket'], axis=1, inplace=True)\n",
    "\n",
    "# embarked column imputation\n",
    "df['Embarked'].fillna(df['Embarked'].mode()[0], inplace=True)"
   ]
  },
  {
   "cell_type": "code",
   "execution_count": 5,
   "metadata": {},
   "outputs": [
    {
     "data": {
      "text/plain": [
       "<seaborn.axisgrid.FacetGrid at 0x7fcb6ddb1390>"
      ]
     },
     "execution_count": 5,
     "metadata": {},
     "output_type": "execute_result"
    },
    {
     "data": {
      "image/png": "[encoded data removed]",
      "text/plain": [
       "<Figure size 360x360 with 1 Axes>"
      ]
     },
     "metadata": {
      "needs_background": "light"
     },
     "output_type": "display_data"
    }
   ],
   "source": [
    "import seaborn as sns\n",
    "%matplotlib inline\n",
    "\n",
    "sns.displot(df, x='Age')"
   ]
  },
  {
   "cell_type": "markdown",
   "metadata": {},
   "source": [
    "The distribution is positive skew, so it's better to use median to imputation."
   ]
  },
  {
   "cell_type": "code",
   "execution_count": 6,
   "metadata": {},
   "outputs": [],
   "source": [
    "# age column imputation\n",
    "df['Age'].fillna(df['Age'].median(), inplace=True)"
   ]
  },
  {
   "cell_type": "code",
   "execution_count": 7,
   "metadata": {},
   "outputs": [
    {
     "data": {
      "image/png": "[encoded data removed]",
      "text/plain": [
       "<Figure size 1152x576 with 7 Axes>"
      ]
     },
     "metadata": {
      "needs_background": "light"
     },
     "output_type": "display_data"
    }
   ],
   "source": [
    "import matplotlib.pyplot as plt\n",
    "\n",
    "plt.figure(figsize=(16,8))\n",
    "title = df.columns[1:].to_list()\n",
    "for i in range(7):\n",
    "    plt.subplot(2,4,i+1)\n",
    "    sns.countplot(x=title[i], hue='Survived', data=df)"
   ]
  },
  {
   "cell_type": "markdown",
   "metadata": {},
   "source": [
    "From this point, we can make another assumption\n",
    "\n",
    "- Based on passenger's sex, male is likely to die and female is likely to survive.\n",
    "- Passenger with passenger class 3 is likely to die, but we cannot make assumption on another classes.\n",
    "- Passenger with no sibling or spouse is likely to die than passenger who have sibling or spouse.\n",
    "- Passenger with parent and children have the same condition.\n",
    "- Passenger who embarked from Southampton is more likely to die (I don't know why?).\n",
    "\n",
    "More details on Age and Fare"
   ]
  },
  {
   "cell_type": "code",
   "execution_count": 8,
   "metadata": {},
   "outputs": [
    {
     "data": {
      "text/plain": [
       "<matplotlib.axes._subplots.AxesSubplot at 0x7fcb6f409d10>"
      ]
     },
     "execution_count": 8,
     "metadata": {},
     "output_type": "execute_result"
    },
    {
     "data": {
      "image/png": "[encoded data removed]",
      "text/plain": [
       "<Figure size 1152x576 with 2 Axes>"
      ]
     },
     "metadata": {
      "needs_background": "light"
     },
     "output_type": "display_data"
    }
   ],
   "source": [
    "plt.figure(figsize=(16,8))\n",
    "plt.subplot(1,2,1)\n",
    "sns.histplot(df, x='Fare', hue='Survived')\n",
    "\n",
    "plt.subplot(1,2,2)\n",
    "sns.histplot(df, x='Age', hue='Survived')"
   ]
  },
  {
   "cell_type": "markdown",
   "metadata": {},
   "source": [
    "### Feature Engineering and Selection"
   ]
  },
  {
   "cell_type": "code",
   "execution_count": 9,
   "metadata": {},
   "outputs": [],
   "source": [
    "df['sex_male'] = df['Sex'].apply(lambda x: 1 if x == 'male' else 0)\n",
    "df['sex_female'] = df['Sex'].apply(lambda x: 1 if x == 'female' else 0)\n",
    "df.drop('Sex', axis=1, inplace=True)"
   ]
  },
  {
   "cell_type": "code",
   "execution_count": 10,
   "metadata": {},
   "outputs": [],
   "source": [
    "df['embarked_S'] = df['Embarked'].apply(lambda x: 1 if x == 'S' else 0)\n",
    "df['embarked_C'] = df['Embarked'].apply(lambda x: 1 if x == 'C' else 0)\n",
    "df['embarked_Q'] = df['Embarked'].apply(lambda x: 1 if x == 'Q' else 0)\n",
    "df.drop('Embarked', axis=1, inplace=True)"
   ]
  },
  {
   "cell_type": "code",
   "execution_count": 11,
   "metadata": {},
   "outputs": [],
   "source": [
    "df_ = pd.read_csv('../data/test.csv')\n",
    "df_['sex_male'] = df_['Sex'].apply(lambda x: 1 if x == 'male' else 0)\n",
    "df_['sex_female'] = df_['Sex'].apply(lambda x: 1 if x == 'female' else 0)\n",
    "df_.drop('Sex', axis=1, inplace=True)"
   ]
  },
  {
   "cell_type": "code",
   "execution_count": 12,
   "metadata": {},
   "outputs": [],
   "source": [
    "df_['embarked_S'] = df_['Embarked'].apply(lambda x: 1 if x == 'S' else 0)\n",
    "df_['embarked_C'] = df_['Embarked'].apply(lambda x: 1 if x == 'C' else 0)\n",
    "df_['embarked_Q'] = df_['Embarked'].apply(lambda x: 1 if x == 'Q' else 0)\n",
    "df_.drop('Embarked', axis=1, inplace=True)"
   ]
  },
  {
   "cell_type": "code",
   "execution_count": 13,
   "metadata": {},
   "outputs": [
    {
     "data": {
      "text/html": [
       "<div>\n",
       "<style scoped>\n",
       "    .dataframe tbody tr th:only-of-type {\n",
       "        vertical-align: middle;\n",
       "    }\n",
       "\n",
       "    .dataframe tbody tr th {\n",
       "        vertical-align: top;\n",
       "    }\n",
       "\n",
       "    .dataframe thead th {\n",
       "        text-align: right;\n",
       "    }\n",
       "</style>\n",
       "<table border=\"1\" class=\"dataframe\">\n",
       "  <thead>\n",
       "    <tr style=\"text-align: right;\">\n",
       "      <th></th>\n",
       "      <th>Survived</th>\n",
       "      <th>Pclass</th>\n",
       "      <th>Age</th>\n",
       "      <th>SibSp</th>\n",
       "      <th>Parch</th>\n",
       "      <th>Fare</th>\n",
       "      <th>sex_male</th>\n",
       "      <th>sex_female</th>\n",
       "      <th>embarked_S</th>\n",
       "      <th>embarked_C</th>\n",
       "      <th>embarked_Q</th>\n",
       "    </tr>\n",
       "    <tr>\n",
       "      <th>PassengerId</th>\n",
       "      <th></th>\n",
       "      <th></th>\n",
       "      <th></th>\n",
       "      <th></th>\n",
       "      <th></th>\n",
       "      <th></th>\n",
       "      <th></th>\n",
       "      <th></th>\n",
       "      <th></th>\n",
       "      <th></th>\n",
       "      <th></th>\n",
       "    </tr>\n",
       "  </thead>\n",
       "  <tbody>\n",
       "    <tr>\n",
       "      <td>1</td>\n",
       "      <td>0</td>\n",
       "      <td>3</td>\n",
       "      <td>22.0</td>\n",
       "      <td>1</td>\n",
       "      <td>0</td>\n",
       "      <td>7.2500</td>\n",
       "      <td>1</td>\n",
       "      <td>0</td>\n",
       "      <td>1</td>\n",
       "      <td>0</td>\n",
       "      <td>0</td>\n",
       "    </tr>\n",
       "    <tr>\n",
       "      <td>2</td>\n",
       "      <td>1</td>\n",
       "      <td>1</td>\n",
       "      <td>38.0</td>\n",
       "      <td>1</td>\n",
       "      <td>0</td>\n",
       "      <td>71.2833</td>\n",
       "      <td>0</td>\n",
       "      <td>1</td>\n",
       "      <td>0</td>\n",
       "      <td>1</td>\n",
       "      <td>0</td>\n",
       "    </tr>\n",
       "    <tr>\n",
       "      <td>3</td>\n",
       "      <td>1</td>\n",
       "      <td>3</td>\n",
       "      <td>26.0</td>\n",
       "      <td>0</td>\n",
       "      <td>0</td>\n",
       "      <td>7.9250</td>\n",
       "      <td>0</td>\n",
       "      <td>1</td>\n",
       "      <td>1</td>\n",
       "      <td>0</td>\n",
       "      <td>0</td>\n",
       "    </tr>\n",
       "    <tr>\n",
       "      <td>4</td>\n",
       "      <td>1</td>\n",
       "      <td>1</td>\n",
       "      <td>35.0</td>\n",
       "      <td>1</td>\n",
       "      <td>0</td>\n",
       "      <td>53.1000</td>\n",
       "      <td>0</td>\n",
       "      <td>1</td>\n",
       "      <td>1</td>\n",
       "      <td>0</td>\n",
       "      <td>0</td>\n",
       "    </tr>\n",
       "    <tr>\n",
       "      <td>5</td>\n",
       "      <td>0</td>\n",
       "      <td>3</td>\n",
       "      <td>35.0</td>\n",
       "      <td>0</td>\n",
       "      <td>0</td>\n",
       "      <td>8.0500</td>\n",
       "      <td>1</td>\n",
       "      <td>0</td>\n",
       "      <td>1</td>\n",
       "      <td>0</td>\n",
       "      <td>0</td>\n",
       "    </tr>\n",
       "  </tbody>\n",
       "</table>\n",
       "</div>"
      ],
      "text/plain": [
       "             Survived  Pclass   Age  SibSp  Parch     Fare  sex_male  \\\n",
       "PassengerId                                                            \n",
       "1                   0       3  22.0      1      0   7.2500         1   \n",
       "2                   1       1  38.0      1      0  71.2833         0   \n",
       "3                   1       3  26.0      0      0   7.9250         0   \n",
       "4                   1       1  35.0      1      0  53.1000         0   \n",
       "5                   0       3  35.0      0      0   8.0500         1   \n",
       "\n",
       "             sex_female  embarked_S  embarked_C  embarked_Q  \n",
       "PassengerId                                                  \n",
       "1                     0           1           0           0  \n",
       "2                     1           0           1           0  \n",
       "3                     1           1           0           0  \n",
       "4                     1           1           0           0  \n",
       "5                     0           1           0           0  "
      ]
     },
     "execution_count": 13,
     "metadata": {},
     "output_type": "execute_result"
    }
   ],
   "source": [
    "df.head()"
   ]
  },
  {
   "cell_type": "markdown",
   "metadata": {},
   "source": [
    "### Modeling\n",
    "#### Benchmark: predict all dead or all survived\n",
    "\n",
    "The simplest strategy to get a benchmark score. In the next modeling which should be more complex, the score have to be higher than benchmark."
   ]
  },
  {
   "cell_type": "code",
   "execution_count": 14,
   "metadata": {},
   "outputs": [
    {
     "data": {
      "text/plain": [
       "<matplotlib.axes._subplots.AxesSubplot at 0x7fcb70143550>"
      ]
     },
     "execution_count": 14,
     "metadata": {},
     "output_type": "execute_result"
    },
    {
     "data": {
      "image/png": "[encoded data removed]",
      "text/plain": [
       "<Figure size 432x288 with 1 Axes>"
      ]
     },
     "metadata": {
      "needs_background": "light"
     },
     "output_type": "display_data"
    }
   ],
   "source": [
    "sns.countplot(x='Survived', data=df)"
   ]
  },
  {
   "cell_type": "markdown",
   "metadata": {},
   "source": [
    "Since died is the majority, I will submit all died for benchmark."
   ]
  },
  {
   "cell_type": "code",
   "execution_count": 15,
   "metadata": {},
   "outputs": [],
   "source": [
    "df_test = pd.read_csv('../data/test.csv')\n",
    "mod1 = df_test.copy()\n",
    "mod1['Survived'] = 0\n",
    "mod1 = mod1.loc[:,['PassengerId', 'Survived']]"
   ]
  },
  {
   "cell_type": "code",
   "execution_count": 16,
   "metadata": {},
   "outputs": [],
   "source": [
    "# I got this data submission with 100% accuracy from kaggle\n",
    "df_score = pd.read_csv('../data/sub_titanic.csv')"
   ]
  },
  {
   "cell_type": "code",
   "execution_count": 17,
   "metadata": {},
   "outputs": [
    {
     "name": "stdout",
     "output_type": "stream",
     "text": [
      "Benchmark score:\n"
     ]
    },
    {
     "data": {
      "text/plain": [
       "62.20095693779905"
      ]
     },
     "execution_count": 17,
     "metadata": {},
     "output_type": "execute_result"
    }
   ],
   "source": [
    "acc = mod1.merge(df_score, how='inner', on='PassengerId')\n",
    "acc['score'] = acc.apply(lambda x: 1 if x['Survived_x'] == x['Survived_y'] else 0, axis=1)\n",
    "print('Benchmark score:')\n",
    "acc['score'].sum()/acc['score'].count()*100"
   ]
  },
  {
   "cell_type": "markdown",
   "metadata": {},
   "source": [
    "I got model accuracy 62% just by submitting all passenger die."
   ]
  },
  {
   "cell_type": "markdown",
   "metadata": {},
   "source": [
    "#### One-variable Decision Tree (Gender only)"
   ]
  },
  {
   "cell_type": "code",
   "execution_count": 18,
   "metadata": {},
   "outputs": [],
   "source": [
    "X_test = df_.copy()\n",
    "mod2 = df_test.copy()\n",
    "mod2['Survived'] = mod2.apply(lambda x: 0 if x['Sex'] == 'male' else 1, axis=1)\n",
    "mod2 = mod2.loc[:,['PassengerId', 'Survived']]"
   ]
  },
  {
   "cell_type": "code",
   "execution_count": 19,
   "metadata": {},
   "outputs": [
    {
     "name": "stdout",
     "output_type": "stream",
     "text": [
      "Benchmark score:\n"
     ]
    },
    {
     "data": {
      "text/plain": [
       "76.55502392344498"
      ]
     },
     "execution_count": 19,
     "metadata": {},
     "output_type": "execute_result"
    }
   ],
   "source": [
    "acc = mod2.merge(df_score, how='inner', on='PassengerId')\n",
    "acc['score'] = acc.apply(lambda x: 1 if x['Survived_x'] == x['Survived_y'] else 0, axis=1)\n",
    "print('Benchmark score:')\n",
    "acc['score'].sum()/acc['score'].count()*100"
   ]
  },
  {
   "cell_type": "markdown",
   "metadata": {},
   "source": [
    "#### Decision Tree"
   ]
  },
  {
   "cell_type": "code",
   "execution_count": 20,
   "metadata": {},
   "outputs": [],
   "source": [
    "from sklearn import tree\n",
    "\n",
    "clf = tree.DecisionTreeClassifier()\n",
    "\n",
    "feature = ['sex_male', 'sex_female']\n",
    "\n",
    "X_train = df.loc[:, feature].values\n",
    "y_train = df.loc[:, 'Survived'].values\n",
    "X_test = df_.loc[:, feature].values\n",
    "y_test = df_score.loc[:, 'Survived'].values"
   ]
  },
  {
   "cell_type": "code",
   "execution_count": 21,
   "metadata": {},
   "outputs": [
    {
     "name": "stdout",
     "output_type": "stream",
     "text": [
      "Decision Tree Score:\n"
     ]
    },
    {
     "data": {
      "text/plain": [
       "76.55502392344498"
      ]
     },
     "execution_count": 21,
     "metadata": {},
     "output_type": "execute_result"
    }
   ],
   "source": [
    "# Train the model\n",
    "clf = clf.fit(X_train, y_train)\n",
    "\n",
    "# predict\n",
    "clf.predict(X_test)\n",
    "\n",
    "# scoring\n",
    "print('Decision Tree Score:')\n",
    "clf.score(X_test, y_test)*100"
   ]
  },
  {
   "cell_type": "markdown",
   "metadata": {},
   "source": [
    "Decision tree model and if-else model with one feature (gender) have the same score. I need to improve the score in next trial with more feature. First, let's evaluate with confussion metrics.\n",
    "\n",
    "#### Evaluation"
   ]
  },
  {
   "cell_type": "code",
   "execution_count": 22,
   "metadata": {},
   "outputs": [],
   "source": [
    "from sklearn.metrics import roc_auc_score, accuracy_score, precision_score, recall_score, confusion_matrix, roc_curve, auc, log_loss\n",
    "\n",
    "y_pred_train = clf.predict(X_train)\n",
    "y_pred_test = clf.predict(X_test)\n",
    "y_proba_train = clf.predict_proba(X_train)[:,1] # hasilnya berupa probability\n",
    "y_proba_test = clf.predict_proba(X_test)[:,1]\n",
    "cm_train = confusion_matrix(y_train, y_pred_train)\n",
    "cm_test = confusion_matrix(y_test, y_pred_test)"
   ]
  },
  {
   "cell_type": "code",
   "execution_count": 23,
   "metadata": {},
   "outputs": [],
   "source": [
    "fpr_train, tpr_train, threshold_train = roc_curve(y_train, y_proba_train)\n",
    "roc_auc_train = auc(fpr_train, tpr_train)\n",
    "fpr_test, tpr_test, threshold_test = roc_curve(y_test, y_proba_test)\n",
    "roc_auc_test = auc(fpr_test, tpr_test)"
   ]
  },
  {
   "cell_type": "code",
   "execution_count": 24,
   "metadata": {},
   "outputs": [],
   "source": [
    "tp_train, tp_test = cm_train[1][1], cm_test[1][1]\n",
    "tn_train, tn_test = cm_train[0][0], cm_test[0][0]\n",
    "fp_train, fp_test = cm_train[1][0], cm_test[1][0]\n",
    "fn_train, fn_test = cm_train[0][1], cm_test[0][1]"
   ]
  },
  {
   "cell_type": "code",
   "execution_count": 25,
   "metadata": {},
   "outputs": [],
   "source": [
    "accuracy_train, accuracy_test = ((tp_train + tn_train)/(tp_train + tn_train + fp_train + fn_train)), ((tp_test + tn_test)/(tp_test + tn_test + fp_test + fn_test))\n",
    "\n",
    "recall_train, recall_test = (tp_train/(tp_train + fp_train)), (tp_test/(tp_test + fp_test))\n",
    "\n",
    "specificity_train, specificity_test = (tn_train/(tn_train + fn_train)), (tn_test/(tn_test + fn_test))\n",
    "\n",
    "precision_train, precision_test = (tp_train/(tp_train + fn_train)), (tp_test/(tp_test + fn_test))\n",
    "\n",
    "f1_score_train, f1_score_test = (2 * (precision_train * recall_train)/(precision_train + recall_train)), (2 * (precision_test * recall_test)/(precision_test + recall_test))"
   ]
  },
  {
   "cell_type": "code",
   "execution_count": 26,
   "metadata": {},
   "outputs": [
    {
     "name": "stdout",
     "output_type": "stream",
     "text": [
      "\n",
      "Train Confusion Matrix\n",
      "[[468  81]\n",
      " [109 233]]\n",
      "Test Confusion Matrix\n",
      "[[214  46]\n",
      " [ 52 106]]\n",
      "\n",
      "Area Under Curve\n",
      "AUC train & test        : 76.69% & 74.70%\n",
      "\n",
      "Confusion Matrix Evaluation\n",
      "Accuracy train & test   : 78.68% & 76.56%\n",
      "Recall train & test     : 68.13% & 67.09%\n",
      "Specificity train & test: 85.25% & 82.31%\n",
      "Precision train & test  : 74.20% & 69.74%\n",
      "F1 Score train & test   : 71.04% & 68.39%\n",
      "Log Loss train & test   : 7.3652 & 8.0977\n"
     ]
    },
    {
     "data": {
      "image/png": "[encoded data removed]",
      "text/plain": [
       "<Figure size 504x432 with 1 Axes>"
      ]
     },
     "metadata": {
      "needs_background": "light"
     },
     "output_type": "display_data"
    }
   ],
   "source": [
    "# Print all the evaluation metrics\n",
    "print('\\nTrain Confusion Matrix')\n",
    "print(cm_train)\n",
    "print('Test Confusion Matrix')\n",
    "print(cm_test)\n",
    "print('\\nArea Under Curve')\n",
    "print('AUC train & test        : %.2f%%' % (roc_auc_train * 100), '&', '%.2f%%' % (roc_auc_test * 100))\n",
    "print('\\nConfusion Matrix Evaluation')\n",
    "print('Accuracy train & test   : %.2f%%' % (accuracy_train * 100), '&', '%.2f%%' % (accuracy_test * 100))\n",
    "print('Recall train & test     : %.2f%%' % (recall_train * 100), '&', '%.2f%%' % (recall_test * 100))\n",
    "print('Specificity train & test: %.2f%%' % (specificity_train * 100), '&', '%.2f%%' % (specificity_test * 100))\n",
    "print('Precision train & test  : %.2f%%' % (precision_train * 100), '&', '%.2f%%' % (precision_test * 100))\n",
    "print('F1 Score train & test   : %.2f%%' % (f1_score_train * 100), '&', '%.2f%%' % (f1_score_test * 100))\n",
    "print('Log Loss train & test   :', round(log_loss(y_train, y_pred_train), 4), '&',\n",
    "          round(log_loss(y_test, y_pred_test), 4))\n",
    "\n",
    "#create plot of ROC_AUC\n",
    "plt.figure(figsize=(7, 6))\n",
    "plt.title('Receiver Operating Characteristic')\n",
    "plt.plot(fpr_train, tpr_train, 'b', label='Train = %0.2f' % roc_auc_train)\n",
    "plt.plot(fpr_test, tpr_test, 'g', label='Test  = %0.2f' % roc_auc_test)\n",
    "plt.legend(loc='lower right')\n",
    "plt.plot([0, 1], [0, 1], 'r--')\n",
    "plt.xlim([-0.05, 1.05])\n",
    "plt.ylim([-0.05, 1.05])\n",
    "plt.ylabel('True Positive Rate')\n",
    "plt.xlabel('False Positive Rate')\n",
    "plt.show()"
   ]
  },
  {
   "cell_type": "markdown",
   "metadata": {},
   "source": [
    "#### Decision Tree 2"
   ]
  },
  {
   "cell_type": "code",
   "execution_count": 27,
   "metadata": {},
   "outputs": [],
   "source": [
    "clf = tree.DecisionTreeClassifier()\n",
    "\n",
    "feature = ['Pclass', 'SibSp', 'Parch', 'sex_male', 'sex_female', 'embarked_S', 'embarked_C', 'embarked_Q']\n",
    "\n",
    "X_train = df.loc[:, feature].values\n",
    "y_train = df.loc[:, 'Survived'].values\n",
    "X_test = df_.loc[:, feature].values\n",
    "y_test = df_score.loc[:, 'Survived'].values"
   ]
  },
  {
   "cell_type": "code",
   "execution_count": 28,
   "metadata": {},
   "outputs": [
    {
     "name": "stdout",
     "output_type": "stream",
     "text": [
      "Decision Tree Score:\n"
     ]
    },
    {
     "data": {
      "text/plain": [
       "75.83732057416267"
      ]
     },
     "execution_count": 28,
     "metadata": {},
     "output_type": "execute_result"
    }
   ],
   "source": [
    "# Train the model\n",
    "clf = clf.fit(X_train, y_train)\n",
    "\n",
    "# predict\n",
    "clf.predict(X_test)\n",
    "\n",
    "# scoring\n",
    "print('Decision Tree Score:')\n",
    "clf.score(X_test, y_test)*100"
   ]
  },
  {
   "cell_type": "markdown",
   "metadata": {},
   "source": [
    "Decision tree model with more feature produce a lower score. This implies that I just added bad features. But let's confirm this with confussion metrics.\n",
    "\n",
    "#### Evaluation"
   ]
  },
  {
   "cell_type": "code",
   "execution_count": 29,
   "metadata": {},
   "outputs": [],
   "source": [
    "from sklearn.metrics import roc_auc_score, accuracy_score, precision_score, recall_score, confusion_matrix, roc_curve, auc, log_loss\n",
    "\n",
    "y_pred_train = clf.predict(X_train)\n",
    "y_pred_test = clf.predict(X_test)\n",
    "y_proba_train = clf.predict_proba(X_train)[:,1] # hasilnya berupa probability\n",
    "y_proba_test = clf.predict_proba(X_test)[:,1]\n",
    "cm_train = confusion_matrix(y_train, y_pred_train)\n",
    "cm_test = confusion_matrix(y_test, y_pred_test)"
   ]
  },
  {
   "cell_type": "code",
   "execution_count": 30,
   "metadata": {},
   "outputs": [],
   "source": [
    "fpr_train, tpr_train, threshold_train = roc_curve(y_train, y_proba_train)\n",
    "roc_auc_train = auc(fpr_train, tpr_train)\n",
    "fpr_test, tpr_test, threshold_test = roc_curve(y_test, y_proba_test)\n",
    "roc_auc_test = auc(fpr_test, tpr_test)"
   ]
  },
  {
   "cell_type": "code",
   "execution_count": 31,
   "metadata": {},
   "outputs": [],
   "source": [
    "tp_train, tp_test = cm_train[1][1], cm_test[1][1]\n",
    "tn_train, tn_test = cm_train[0][0], cm_test[0][0]\n",
    "fp_train, fp_test = cm_train[1][0], cm_test[1][0]\n",
    "fn_train, fn_test = cm_train[0][1], cm_test[0][1]"
   ]
  },
  {
   "cell_type": "code",
   "execution_count": 32,
   "metadata": {},
   "outputs": [],
   "source": [
    "accuracy_train, accuracy_test = ((tp_train + tn_train)/(tp_train + tn_train + fp_train + fn_train)), ((tp_test + tn_test)/(tp_test + tn_test + fp_test + fn_test))\n",
    "\n",
    "recall_train, recall_test = (tp_train/(tp_train + fp_train)), (tp_test/(tp_test + fp_test))\n",
    "\n",
    "specificity_train, specificity_test = (tn_train/(tn_train + fn_train)), (tn_test/(tn_test + fn_test))\n",
    "\n",
    "precision_train, precision_test = (tp_train/(tp_train + fn_train)), (tp_test/(tp_test + fn_test))\n",
    "\n",
    "f1_score_train, f1_score_test = (2 * (precision_train * recall_train)/(precision_train + recall_train)), (2 * (precision_test * recall_test)/(precision_test + recall_test))"
   ]
  },
  {
   "cell_type": "code",
   "execution_count": 33,
   "metadata": {},
   "outputs": [
    {
     "name": "stdout",
     "output_type": "stream",
     "text": [
      "\n",
      "Train Confusion Matrix\n",
      "[[519  30]\n",
      " [115 227]]\n",
      "Test Confusion Matrix\n",
      "[[222  38]\n",
      " [ 63  95]]\n",
      "\n",
      "Area Under Curve\n",
      "AUC train & test        : 89.71% & 81.51%\n",
      "\n",
      "Confusion Matrix Evaluation\n",
      "Accuracy train & test   : 83.73% & 75.84%\n",
      "Recall train & test     : 66.37% & 60.13%\n",
      "Specificity train & test: 94.54% & 85.38%\n",
      "Precision train & test  : 88.33% & 71.43%\n",
      "F1 Score train & test   : 75.79% & 65.29%\n",
      "Log Loss train & test   : 5.6208 & 8.3456\n"
     ]
    },
    {
     "data": {
      "image/png": "[encoded data removed]",
      "text/plain": [
       "<Figure size 504x432 with 1 Axes>"
      ]
     },
     "metadata": {
      "needs_background": "light"
     },
     "output_type": "display_data"
    }
   ],
   "source": [
    "# Print all the evaluation metrics\n",
    "print('\\nTrain Confusion Matrix')\n",
    "print(cm_train)\n",
    "print('Test Confusion Matrix')\n",
    "print(cm_test)\n",
    "print('\\nArea Under Curve')\n",
    "print('AUC train & test        : %.2f%%' % (roc_auc_train * 100), '&', '%.2f%%' % (roc_auc_test * 100))\n",
    "print('\\nConfusion Matrix Evaluation')\n",
    "print('Accuracy train & test   : %.2f%%' % (accuracy_train * 100), '&', '%.2f%%' % (accuracy_test * 100))\n",
    "print('Recall train & test     : %.2f%%' % (recall_train * 100), '&', '%.2f%%' % (recall_test * 100))\n",
    "print('Specificity train & test: %.2f%%' % (specificity_train * 100), '&', '%.2f%%' % (specificity_test * 100))\n",
    "print('Precision train & test  : %.2f%%' % (precision_train * 100), '&', '%.2f%%' % (precision_test * 100))\n",
    "print('F1 Score train & test   : %.2f%%' % (f1_score_train * 100), '&', '%.2f%%' % (f1_score_test * 100))\n",
    "print('Log Loss train & test   :', round(log_loss(y_train, y_pred_train), 4), '&',\n",
    "          round(log_loss(y_test, y_pred_test), 4))\n",
    "\n",
    "#create plot of ROC_AUC\n",
    "plt.figure(figsize=(7, 6))\n",
    "plt.title('Receiver Operating Characteristic')\n",
    "plt.plot(fpr_train, tpr_train, 'b', label='Train = %0.2f' % roc_auc_train)\n",
    "plt.plot(fpr_test, tpr_test, 'g', label='Test  = %0.2f' % roc_auc_test)\n",
    "plt.legend(loc='lower right')\n",
    "plt.plot([0, 1], [0, 1], 'r--')\n",
    "plt.xlim([-0.05, 1.05])\n",
    "plt.ylim([-0.05, 1.05])\n",
    "plt.ylabel('True Positive Rate')\n",
    "plt.xlabel('False Positive Rate')\n",
    "plt.show()"
   ]
  },
  {
   "cell_type": "markdown",
   "metadata": {},
   "source": [
    "This AUROC show us that added those feature is not a bad decision. But from the AUROC implies the model tend to be overfit."
   ]
  },
  {
   "cell_type": "markdown",
   "metadata": {},
   "source": [
    "#### Hyperparameter Tuning"
   ]
  },
  {
   "cell_type": "code",
   "execution_count": 34,
   "metadata": {},
   "outputs": [
    {
     "data": {
      "text/plain": [
       "<matplotlib.axes._subplots.AxesSubplot at 0x7fcb6eb168d0>"
      ]
     },
     "execution_count": 34,
     "metadata": {},
     "output_type": "execute_result"
    },
    {
     "data": {
      "image/png": "[encoded data removed]",
      "text/plain": [
       "<Figure size 432x288 with 1 Axes>"
      ]
     },
     "metadata": {
      "needs_background": "light"
     },
     "output_type": "display_data"
    }
   ],
   "source": [
    "# min_samples_split tuning\n",
    "X = range(2,101)\n",
    "Y = []\n",
    "\n",
    "for i in X:\n",
    "    clf = tree.DecisionTreeClassifier(min_samples_split=i)\n",
    "    \n",
    "    feature = ['Pclass', 'SibSp', 'Parch', 'sex_male', 'sex_female', 'embarked_S', 'embarked_C', 'embarked_Q']\n",
    "    \n",
    "    X_train = df.loc[:, feature].values\n",
    "    y_train = df.loc[:, 'Survived'].values\n",
    "    X_test = df_.loc[:, feature].values\n",
    "    y_test = df_score.loc[:, 'Survived'].values\n",
    "    \n",
    "    clf = clf.fit(X_train, y_train)\n",
    "    clf.predict(X_test)\n",
    "    \n",
    "    Y.append(clf.score(X_test, y_test)*100)\n",
    "    \n",
    "sns.lineplot(x=X, y=Y)"
   ]
  },
  {
   "cell_type": "code",
   "execution_count": 35,
   "metadata": {},
   "outputs": [
    {
     "data": {
      "text/plain": [
       "<matplotlib.axes._subplots.AxesSubplot at 0x7fcb6fb07c50>"
      ]
     },
     "execution_count": 35,
     "metadata": {},
     "output_type": "execute_result"
    },
    {
     "data": {
      "image/png": "[encoded data removed]",
      "text/plain": [
       "<Figure size 432x288 with 1 Axes>"
      ]
     },
     "metadata": {
      "needs_background": "light"
     },
     "output_type": "display_data"
    }
   ],
   "source": [
    "# min_samples_leaf tuning\n",
    "X = range(1,101)\n",
    "Y = []\n",
    "\n",
    "for i in X:\n",
    "    clf = tree.DecisionTreeClassifier(min_samples_leaf=i)\n",
    "    \n",
    "    feature = ['Pclass', 'SibSp', 'Parch', 'sex_male', 'sex_female', 'embarked_S', 'embarked_C', 'embarked_Q']\n",
    "    \n",
    "    X_train = df.loc[:, feature].values\n",
    "    y_train = df.loc[:, 'Survived'].values\n",
    "    X_test = df_.loc[:, feature].values\n",
    "    y_test = df_score.loc[:, 'Survived'].values\n",
    "    \n",
    "    clf = clf.fit(X_train, y_train)\n",
    "    clf.predict(X_test)\n",
    "    \n",
    "    Y.append(clf.score(X_test, y_test)*100)\n",
    "    \n",
    "sns.lineplot(x=X, y=Y)"
   ]
  },
  {
   "cell_type": "code",
   "execution_count": 36,
   "metadata": {},
   "outputs": [],
   "source": [
    "# Apply the tuning\n",
    "\n",
    "clf = tree.DecisionTreeClassifier(min_samples_split=60, min_samples_leaf=20)\n",
    "\n",
    "feature = ['Pclass', 'SibSp', 'Parch', 'sex_male', 'sex_female', 'embarked_S', 'embarked_C', 'embarked_Q']\n",
    "\n",
    "X_train = df.loc[:, feature].values\n",
    "y_train = df.loc[:, 'Survived'].values\n",
    "X_test = df_.loc[:, feature].values\n",
    "y_test = df_score.loc[:, 'Survived'].values"
   ]
  },
  {
   "cell_type": "code",
   "execution_count": 37,
   "metadata": {},
   "outputs": [
    {
     "name": "stdout",
     "output_type": "stream",
     "text": [
      "Decision Tree Score:\n"
     ]
    },
    {
     "data": {
      "text/plain": [
       "77.75119617224881"
      ]
     },
     "execution_count": 37,
     "metadata": {},
     "output_type": "execute_result"
    }
   ],
   "source": [
    "# Train the model\n",
    "clf = clf.fit(X_train, y_train)\n",
    "\n",
    "# predict\n",
    "clf.predict(X_test)\n",
    "\n",
    "# scoring\n",
    "print('Decision Tree Score:')\n",
    "clf.score(X_test, y_test)*100"
   ]
  },
  {
   "cell_type": "code",
   "execution_count": 38,
   "metadata": {},
   "outputs": [],
   "source": [
    "y_pred_train = clf.predict(X_train)\n",
    "y_pred_test = clf.predict(X_test)\n",
    "y_proba_train = clf.predict_proba(X_train)[:,1] # hasilnya berupa probability\n",
    "y_proba_test = clf.predict_proba(X_test)[:,1]\n",
    "cm_train = confusion_matrix(y_train, y_pred_train)\n",
    "cm_test = confusion_matrix(y_test, y_pred_test)"
   ]
  },
  {
   "cell_type": "code",
   "execution_count": 39,
   "metadata": {},
   "outputs": [],
   "source": [
    "fpr_train, tpr_train, threshold_train = roc_curve(y_train, y_proba_train)\n",
    "roc_auc_train = auc(fpr_train, tpr_train)\n",
    "fpr_test, tpr_test, threshold_test = roc_curve(y_test, y_proba_test)\n",
    "roc_auc_test = auc(fpr_test, tpr_test)"
   ]
  },
  {
   "cell_type": "code",
   "execution_count": 40,
   "metadata": {},
   "outputs": [],
   "source": [
    "tp_train, tp_test = cm_train[1][1], cm_test[1][1]\n",
    "tn_train, tn_test = cm_train[0][0], cm_test[0][0]\n",
    "fp_train, fp_test = cm_train[1][0], cm_test[1][0]\n",
    "fn_train, fn_test = cm_train[0][1], cm_test[0][1]"
   ]
  },
  {
   "cell_type": "code",
   "execution_count": 41,
   "metadata": {},
   "outputs": [],
   "source": [
    "accuracy_train, accuracy_test = ((tp_train + tn_train)/(tp_train + tn_train + fp_train + fn_train)), ((tp_test + tn_test)/(tp_test + tn_test + fp_test + fn_test))\n",
    "\n",
    "recall_train, recall_test = (tp_train/(tp_train + fp_train)), (tp_test/(tp_test + fp_test))\n",
    "\n",
    "specificity_train, specificity_test = (tn_train/(tn_train + fn_train)), (tn_test/(tn_test + fn_test))\n",
    "\n",
    "precision_train, precision_test = (tp_train/(tp_train + fn_train)), (tp_test/(tp_test + fn_test))\n",
    "\n",
    "f1_score_train, f1_score_test = (2 * (precision_train * recall_train)/(precision_train + recall_train)), (2 * (precision_test * recall_test)/(precision_test + recall_test))"
   ]
  },
  {
   "cell_type": "code",
   "execution_count": 42,
   "metadata": {},
   "outputs": [
    {
     "name": "stdout",
     "output_type": "stream",
     "text": [
      "\n",
      "Train Confusion Matrix\n",
      "[[523  26]\n",
      " [142 200]]\n",
      "Test Confusion Matrix\n",
      "[[237  23]\n",
      " [ 70  88]]\n",
      "\n",
      "Area Under Curve\n",
      "AUC train & test        : 86.71% & 82.08%\n",
      "\n",
      "Confusion Matrix Evaluation\n",
      "Accuracy train & test   : 81.14% & 77.75%\n",
      "Recall train & test     : 58.48% & 55.70%\n",
      "Specificity train & test: 95.26% & 91.15%\n",
      "Precision train & test  : 88.50% & 79.28%\n",
      "F1 Score train & test   : 70.42% & 65.43%\n",
      "Log Loss train & test   : 6.5124 & 7.6845\n"
     ]
    },
    {
     "data": {
      "image/png": "[encoded data removed]",
      "text/plain": [
       "<Figure size 504x432 with 1 Axes>"
      ]
     },
     "metadata": {
      "needs_background": "light"
     },
     "output_type": "display_data"
    }
   ],
   "source": [
    "# Print all the evaluation metrics\n",
    "print('\\nTrain Confusion Matrix')\n",
    "print(cm_train)\n",
    "print('Test Confusion Matrix')\n",
    "print(cm_test)\n",
    "print('\\nArea Under Curve')\n",
    "print('AUC train & test        : %.2f%%' % (roc_auc_train * 100), '&', '%.2f%%' % (roc_auc_test * 100))\n",
    "print('\\nConfusion Matrix Evaluation')\n",
    "print('Accuracy train & test   : %.2f%%' % (accuracy_train * 100), '&', '%.2f%%' % (accuracy_test * 100))\n",
    "print('Recall train & test     : %.2f%%' % (recall_train * 100), '&', '%.2f%%' % (recall_test * 100))\n",
    "print('Specificity train & test: %.2f%%' % (specificity_train * 100), '&', '%.2f%%' % (specificity_test * 100))\n",
    "print('Precision train & test  : %.2f%%' % (precision_train * 100), '&', '%.2f%%' % (precision_test * 100))\n",
    "print('F1 Score train & test   : %.2f%%' % (f1_score_train * 100), '&', '%.2f%%' % (f1_score_test * 100))\n",
    "print('Log Loss train & test   :', round(log_loss(y_train, y_pred_train), 4), '&',\n",
    "          round(log_loss(y_test, y_pred_test), 4))\n",
    "\n",
    "#create plot of ROC_AUC\n",
    "plt.figure(figsize=(7, 6))\n",
    "plt.title('Receiver Operating Characteristic')\n",
    "plt.plot(fpr_train, tpr_train, 'b', label='Train = %0.2f' % roc_auc_train)\n",
    "plt.plot(fpr_test, tpr_test, 'g', label='Test  = %0.2f' % roc_auc_test)\n",
    "plt.legend(loc='lower right')\n",
    "plt.plot([0, 1], [0, 1], 'r--')\n",
    "plt.xlim([-0.05, 1.05])\n",
    "plt.ylim([-0.05, 1.05])\n",
    "plt.ylabel('True Positive Rate')\n",
    "plt.xlabel('False Positive Rate')\n",
    "plt.show()"
   ]
  },
  {
   "cell_type": "markdown",
   "metadata": {},
   "source": [
    "#### Random Forest"
   ]
  },
  {
   "cell_type": "code",
   "execution_count": 43,
   "metadata": {},
   "outputs": [
    {
     "name": "stdout",
     "output_type": "stream",
     "text": [
      "Random Forest Score:\n"
     ]
    },
    {
     "data": {
      "text/plain": [
       "77.03349282296651"
      ]
     },
     "execution_count": 43,
     "metadata": {},
     "output_type": "execute_result"
    }
   ],
   "source": [
    "from sklearn.ensemble import RandomForestClassifier\n",
    "\n",
    "rf = RandomForestClassifier(n_estimators = 1000)\n",
    "\n",
    "# Train the model\n",
    "rf.fit(X_train, y_train)\n",
    "\n",
    "# predict\n",
    "rf.predict(X_test)\n",
    "\n",
    "# scoring\n",
    "print('Random Forest Score:')\n",
    "rf.score(X_test, y_test)*100"
   ]
  },
  {
   "cell_type": "markdown",
   "metadata": {},
   "source": [
    "The random forest model performed better but had less impact."
   ]
  },
  {
   "cell_type": "markdown",
   "metadata": {},
   "source": [
    "#### Model Evaluation"
   ]
  },
  {
   "cell_type": "code",
   "execution_count": 44,
   "metadata": {},
   "outputs": [],
   "source": [
    "y_pred_train = rf.predict(X_train)\n",
    "y_pred_test = rf.predict(X_test)\n",
    "y_proba_train = rf.predict_proba(X_train)[:,1] # hasilnya berupa probability\n",
    "y_proba_test = rf.predict_proba(X_test)[:,1]\n",
    "cm_train = confusion_matrix(y_train, y_pred_train)\n",
    "cm_test = confusion_matrix(y_test, y_pred_test)"
   ]
  },
  {
   "cell_type": "code",
   "execution_count": 45,
   "metadata": {},
   "outputs": [],
   "source": [
    "fpr_train, tpr_train, threshold_train = roc_curve(y_train, y_proba_train)\n",
    "roc_auc_train = auc(fpr_train, tpr_train)\n",
    "fpr_test, tpr_test, threshold_test = roc_curve(y_test, y_proba_test)\n",
    "roc_auc_test = auc(fpr_test, tpr_test)"
   ]
  },
  {
   "cell_type": "code",
   "execution_count": 46,
   "metadata": {},
   "outputs": [],
   "source": [
    "tp_train, tp_test = cm_train[1][1], cm_test[1][1]\n",
    "tn_train, tn_test = cm_train[0][0], cm_test[0][0]\n",
    "fp_train, fp_test = cm_train[1][0], cm_test[1][0]\n",
    "fn_train, fn_test = cm_train[0][1], cm_test[0][1]"
   ]
  },
  {
   "cell_type": "code",
   "execution_count": 47,
   "metadata": {},
   "outputs": [],
   "source": [
    "accuracy_train, accuracy_test = ((tp_train + tn_train)/(tp_train + tn_train + fp_train + fn_train)), ((tp_test + tn_test)/(tp_test + tn_test + fp_test + fn_test))\n",
    "\n",
    "recall_train, recall_test = (tp_train/(tp_train + fp_train)), (tp_test/(tp_test + fp_test))\n",
    "\n",
    "specificity_train, specificity_test = (tn_train/(tn_train + fn_train)), (tn_test/(tn_test + fn_test))\n",
    "\n",
    "precision_train, precision_test = (tp_train/(tp_train + fn_train)), (tp_test/(tp_test + fn_test))\n",
    "\n",
    "f1_score_train, f1_score_test = (2 * (precision_train * recall_train)/(precision_train + recall_train)), (2 * (precision_test * recall_test)/(precision_test + recall_test))"
   ]
  },
  {
   "cell_type": "code",
   "execution_count": 48,
   "metadata": {},
   "outputs": [
    {
     "name": "stdout",
     "output_type": "stream",
     "text": [
      "\n",
      "Train Confusion Matrix\n",
      "[[516  33]\n",
      " [112 230]]\n",
      "Test Confusion Matrix\n",
      "[[222  38]\n",
      " [ 58 100]]\n",
      "\n",
      "Area Under Curve\n",
      "AUC train & test        : 89.40% & 82.01%\n",
      "\n",
      "Confusion Matrix Evaluation\n",
      "Accuracy train & test   : 83.73% & 77.03%\n",
      "Recall train & test     : 67.25% & 63.29%\n",
      "Specificity train & test: 93.99% & 85.38%\n",
      "Precision train & test  : 87.45% & 72.46%\n",
      "F1 Score train & test   : 76.03% & 67.57%\n",
      "Log Loss train & test   : 5.6208 & 7.9324\n"
     ]
    },
    {
     "data": {
      "image/png": "[encoded data removed]",
      "text/plain": [
       "<Figure size 504x432 with 1 Axes>"
      ]
     },
     "metadata": {
      "needs_background": "light"
     },
     "output_type": "display_data"
    }
   ],
   "source": [
    "# Print all the evaluation metrics\n",
    "print('\\nTrain Confusion Matrix')\n",
    "print(cm_train)\n",
    "print('Test Confusion Matrix')\n",
    "print(cm_test)\n",
    "print('\\nArea Under Curve')\n",
    "print('AUC train & test        : %.2f%%' % (roc_auc_train * 100), '&', '%.2f%%' % (roc_auc_test * 100))\n",
    "print('\\nConfusion Matrix Evaluation')\n",
    "print('Accuracy train & test   : %.2f%%' % (accuracy_train * 100), '&', '%.2f%%' % (accuracy_test * 100))\n",
    "print('Recall train & test     : %.2f%%' % (recall_train * 100), '&', '%.2f%%' % (recall_test * 100))\n",
    "print('Specificity train & test: %.2f%%' % (specificity_train * 100), '&', '%.2f%%' % (specificity_test * 100))\n",
    "print('Precision train & test  : %.2f%%' % (precision_train * 100), '&', '%.2f%%' % (precision_test * 100))\n",
    "print('F1 Score train & test   : %.2f%%' % (f1_score_train * 100), '&', '%.2f%%' % (f1_score_test * 100))\n",
    "print('Log Loss train & test   :', round(log_loss(y_train, y_pred_train), 4), '&',\n",
    "          round(log_loss(y_test, y_pred_test), 4))\n",
    "\n",
    "#create plot of ROC_AUC\n",
    "plt.figure(figsize=(7, 6))\n",
    "plt.title('Receiver Operating Characteristic')\n",
    "plt.plot(fpr_train, tpr_train, 'b', label='Train = %0.2f' % roc_auc_train)\n",
    "plt.plot(fpr_test, tpr_test, 'g', label='Test  = %0.2f' % roc_auc_test)\n",
    "plt.legend(loc='lower right')\n",
    "plt.plot([0, 1], [0, 1], 'r--')\n",
    "plt.xlim([-0.05, 1.05])\n",
    "plt.ylim([-0.05, 1.05])\n",
    "plt.ylabel('True Positive Rate')\n",
    "plt.xlabel('False Positive Rate')\n",
    "plt.show()"
   ]
  },
  {
   "cell_type": "code",
   "execution_count": 54,
   "metadata": {},
   "outputs": [
    {
     "data": {
      "text/plain": [
       "<matplotlib.axes._subplots.AxesSubplot at 0x7fcb72f6f810>"
      ]
     },
     "execution_count": 54,
     "metadata": {},
     "output_type": "execute_result"
    },
    {
     "data": {
      "image/png": "[encoded data removed]",
      "text/plain": [
       "<Figure size 432x288 with 1 Axes>"
      ]
     },
     "metadata": {
      "needs_background": "light"
     },
     "output_type": "display_data"
    }
   ],
   "source": [
    "# min_samples_split tuning\n",
    "X = range(2,35)\n",
    "Y = []\n",
    "\n",
    "for i in X:\n",
    "    rf = RandomForestClassifier(min_samples_split = i)\n",
    "    \n",
    "    feature = ['Pclass', 'SibSp', 'Parch', 'sex_male', 'sex_female', 'embarked_S', 'embarked_C', 'embarked_Q']\n",
    "    \n",
    "    X_train = df.loc[:, feature].values\n",
    "    y_train = df.loc[:, 'Survived'].values\n",
    "    X_test = df_.loc[:, feature].values\n",
    "    y_test = df_score.loc[:, 'Survived'].values\n",
    "    \n",
    "    rf = rf.fit(X_train, y_train)\n",
    "    rf.predict(X_test)\n",
    "    \n",
    "    Y.append(rf.score(X_test, y_test)*100)\n",
    "    \n",
    "sns.lineplot(x=X, y=Y)"
   ]
  },
  {
   "cell_type": "code",
   "execution_count": 61,
   "metadata": {},
   "outputs": [
    {
     "data": {
      "text/plain": [
       "<matplotlib.axes._subplots.AxesSubplot at 0x7fcb7400b510>"
      ]
     },
     "execution_count": 61,
     "metadata": {},
     "output_type": "execute_result"
    },
    {
     "data": {
      "image/png": "[encoded data removed]",
      "text/plain": [
       "<Figure size 432x288 with 1 Axes>"
      ]
     },
     "metadata": {
      "needs_background": "light"
     },
     "output_type": "display_data"
    }
   ],
   "source": [
    "# min_samples_leaf tuning\n",
    "X = range(2,100)\n",
    "Y = []\n",
    "\n",
    "for i in X:\n",
    "    rf = RandomForestClassifier(min_samples_leaf = i)\n",
    "    \n",
    "    feature = ['Pclass', 'SibSp', 'Parch', 'sex_male', 'sex_female', 'embarked_S', 'embarked_C', 'embarked_Q']\n",
    "    \n",
    "    X_train = df.loc[:, feature].values\n",
    "    y_train = df.loc[:, 'Survived'].values\n",
    "    X_test = df_.loc[:, feature].values\n",
    "    y_test = df_score.loc[:, 'Survived'].values\n",
    "    \n",
    "    rf = rf.fit(X_train, y_train)\n",
    "    rf.predict(X_test)\n",
    "    \n",
    "    Y.append(rf.score(X_test, y_test)*100)\n",
    "    \n",
    "sns.lineplot(x=X, y=Y)"
   ]
  },
  {
   "cell_type": "code",
   "execution_count": 62,
   "metadata": {},
   "outputs": [
    {
     "name": "stdout",
     "output_type": "stream",
     "text": [
      "Random Forest Score:\n"
     ]
    },
    {
     "data": {
      "text/plain": [
       "77.99043062200957"
      ]
     },
     "execution_count": 62,
     "metadata": {},
     "output_type": "execute_result"
    }
   ],
   "source": [
    "# Apply the tuning\n",
    "\n",
    "rf = RandomForestClassifier(n_estimators = 1000, min_samples_split = 26, min_samples_leaf = 10)\n",
    "\n",
    "# Train the model\n",
    "rf.fit(X_train, y_train)\n",
    "\n",
    "# predict\n",
    "rf.predict(X_test)\n",
    "\n",
    "# scoring\n",
    "print('Random Forest Score:')\n",
    "rf.score(X_test, y_test)*100"
   ]
  },
  {
   "cell_type": "code",
   "execution_count": 63,
   "metadata": {},
   "outputs": [],
   "source": [
    "y_pred_train = rf.predict(X_train)\n",
    "y_pred_test = rf.predict(X_test)\n",
    "y_proba_train = rf.predict_proba(X_train)[:,1] # hasilnya berupa probability\n",
    "y_proba_test = rf.predict_proba(X_test)[:,1]\n",
    "cm_train = confusion_matrix(y_train, y_pred_train)\n",
    "cm_test = confusion_matrix(y_test, y_pred_test)"
   ]
  },
  {
   "cell_type": "code",
   "execution_count": 64,
   "metadata": {},
   "outputs": [],
   "source": [
    "fpr_train, tpr_train, threshold_train = roc_curve(y_train, y_proba_train)\n",
    "roc_auc_train = auc(fpr_train, tpr_train)\n",
    "fpr_test, tpr_test, threshold_test = roc_curve(y_test, y_proba_test)\n",
    "roc_auc_test = auc(fpr_test, tpr_test)"
   ]
  },
  {
   "cell_type": "code",
   "execution_count": 65,
   "metadata": {},
   "outputs": [],
   "source": [
    "tp_train, tp_test = cm_train[1][1], cm_test[1][1]\n",
    "tn_train, tn_test = cm_train[0][0], cm_test[0][0]\n",
    "fp_train, fp_test = cm_train[1][0], cm_test[1][0]\n",
    "fn_train, fn_test = cm_train[0][1], cm_test[0][1]"
   ]
  },
  {
   "cell_type": "code",
   "execution_count": 66,
   "metadata": {},
   "outputs": [],
   "source": [
    "accuracy_train, accuracy_test = ((tp_train + tn_train)/(tp_train + tn_train + fp_train + fn_train)), ((tp_test + tn_test)/(tp_test + tn_test + fp_test + fn_test))\n",
    "\n",
    "recall_train, recall_test = (tp_train/(tp_train + fp_train)), (tp_test/(tp_test + fp_test))\n",
    "\n",
    "specificity_train, specificity_test = (tn_train/(tn_train + fn_train)), (tn_test/(tn_test + fn_test))\n",
    "\n",
    "precision_train, precision_test = (tp_train/(tp_train + fn_train)), (tp_test/(tp_test + fn_test))\n",
    "\n",
    "f1_score_train, f1_score_test = (2 * (precision_train * recall_train)/(precision_train + recall_train)), (2 * (precision_test * recall_test)/(precision_test + recall_test))"
   ]
  },
  {
   "cell_type": "code",
   "execution_count": 67,
   "metadata": {},
   "outputs": [
    {
     "name": "stdout",
     "output_type": "stream",
     "text": [
      "\n",
      "Train Confusion Matrix\n",
      "[[522  27]\n",
      " [139 203]]\n",
      "Test Confusion Matrix\n",
      "[[237  23]\n",
      " [ 69  89]]\n",
      "\n",
      "Area Under Curve\n",
      "AUC train & test        : 86.47% & 81.17%\n",
      "\n",
      "Confusion Matrix Evaluation\n",
      "Accuracy train & test   : 81.37% & 77.99%\n",
      "Recall train & test     : 59.36% & 56.33%\n",
      "Specificity train & test: 95.08% & 91.15%\n",
      "Precision train & test  : 88.26% & 79.46%\n",
      "F1 Score train & test   : 70.98% & 65.93%\n",
      "Log Loss train & test   : 6.4349 & 7.6019\n"
     ]
    },
    {
     "data": {
      "image/png": "[encoded data removed]",
      "text/plain": [
       "<Figure size 504x432 with 1 Axes>"
      ]
     },
     "metadata": {
      "needs_background": "light"
     },
     "output_type": "display_data"
    }
   ],
   "source": [
    "# Print all the evaluation metrics\n",
    "print('\\nTrain Confusion Matrix')\n",
    "print(cm_train)\n",
    "print('Test Confusion Matrix')\n",
    "print(cm_test)\n",
    "print('\\nArea Under Curve')\n",
    "print('AUC train & test        : %.2f%%' % (roc_auc_train * 100), '&', '%.2f%%' % (roc_auc_test * 100))\n",
    "print('\\nConfusion Matrix Evaluation')\n",
    "print('Accuracy train & test   : %.2f%%' % (accuracy_train * 100), '&', '%.2f%%' % (accuracy_test * 100))\n",
    "print('Recall train & test     : %.2f%%' % (recall_train * 100), '&', '%.2f%%' % (recall_test * 100))\n",
    "print('Specificity train & test: %.2f%%' % (specificity_train * 100), '&', '%.2f%%' % (specificity_test * 100))\n",
    "print('Precision train & test  : %.2f%%' % (precision_train * 100), '&', '%.2f%%' % (precision_test * 100))\n",
    "print('F1 Score train & test   : %.2f%%' % (f1_score_train * 100), '&', '%.2f%%' % (f1_score_test * 100))\n",
    "print('Log Loss train & test   :', round(log_loss(y_train, y_pred_train), 4), '&',\n",
    "          round(log_loss(y_test, y_pred_test), 4))\n",
    "\n",
    "#create plot of ROC_AUC\n",
    "plt.figure(figsize=(7, 6))\n",
    "plt.title('Receiver Operating Characteristic')\n",
    "plt.plot(fpr_train, tpr_train, 'b', label='Train = %0.2f' % roc_auc_train)\n",
    "plt.plot(fpr_test, tpr_test, 'g', label='Test  = %0.2f' % roc_auc_test)\n",
    "plt.legend(loc='lower right')\n",
    "plt.plot([0, 1], [0, 1], 'r--')\n",
    "plt.xlim([-0.05, 1.05])\n",
    "plt.ylim([-0.05, 1.05])\n",
    "plt.ylabel('True Positive Rate')\n",
    "plt.xlabel('False Positive Rate')\n",
    "plt.show()"
   ]
  },
  {
   "cell_type": "code",
   "execution_count": null,
   "metadata": {},
   "outputs": [],
   "source": []
  }
 ],
 "metadata": {
  "kernelspec": {
   "display_name": "Python 3",
   "language": "python",
   "name": "python3"
  },
  "language_info": {
   "codemirror_mode": {
    "name": "ipython",
    "version": 3
   },
   "file_extension": ".py",
   "mimetype": "text/x-python",
   "name": "python",
   "nbconvert_exporter": "python",
   "pygments_lexer": "ipython3",
   "version": "3.7.4"
  },
  "varInspector": {
   "cols": {
    "lenName": 16,
    "lenType": 16,
    "lenVar": 40
   },
   "kernels_config": {
    "python": {
     "delete_cmd_postfix": "",
     "delete_cmd_prefix": "del ",
     "library": "var_list.py",
     "varRefreshCmd": "print(var_dic_list())"
    },
    "r": {
     "delete_cmd_postfix": ") ",
     "delete_cmd_prefix": "rm(",
     "library": "var_list.r",
     "varRefreshCmd": "cat(var_dic_list()) "
    }
   },
   "types_to_exclude": [
    "module",
    "function",
    "builtin_function_or_method",
    "instance",
    "_Feature"
   ],
   "window_display": false
  }
 },
 "nbformat": 4,
 "nbformat_minor": 4
}
